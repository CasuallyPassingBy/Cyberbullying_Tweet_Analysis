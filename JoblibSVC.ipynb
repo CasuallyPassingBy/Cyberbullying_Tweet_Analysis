{
 "cells": [
  {
   "cell_type": "code",
   "execution_count": 2,
   "metadata": {},
   "outputs": [
    {
     "data": {
      "text/html": [
       "<div>\n",
       "<style scoped>\n",
       "    .dataframe tbody tr th:only-of-type {\n",
       "        vertical-align: middle;\n",
       "    }\n",
       "\n",
       "    .dataframe tbody tr th {\n",
       "        vertical-align: top;\n",
       "    }\n",
       "\n",
       "    .dataframe thead th {\n",
       "        text-align: right;\n",
       "    }\n",
       "</style>\n",
       "<table border=\"1\" class=\"dataframe\">\n",
       "  <thead>\n",
       "    <tr style=\"text-align: right;\">\n",
       "      <th></th>\n",
       "      <th>tweet_text</th>\n",
       "      <th>cyberbullying_type</th>\n",
       "      <th>clean_tweet</th>\n",
       "      <th>vector</th>\n",
       "    </tr>\n",
       "  </thead>\n",
       "  <tbody>\n",
       "    <tr>\n",
       "      <th>0</th>\n",
       "      <td>In other words #katandandre, your food was cra...</td>\n",
       "      <td>not_cyberbullying</td>\n",
       "      <td>word katandandre food crapilicious mkr</td>\n",
       "      <td>[ 1.4269199  -0.44784003 -0.5476001  -0.121624...</td>\n",
       "    </tr>\n",
       "    <tr>\n",
       "      <th>1</th>\n",
       "      <td>Why is #aussietv so white? #MKR #theblock #ImA...</td>\n",
       "      <td>not_cyberbullying</td>\n",
       "      <td>aussietv white mkr theblock imacelebrityau tod...</td>\n",
       "      <td>[-7.58157313e-01 -7.03256369e-01 -3.71711820e-...</td>\n",
       "    </tr>\n",
       "    <tr>\n",
       "      <th>2</th>\n",
       "      <td>@XochitlSuckkks a classy whore? Or more red ve...</td>\n",
       "      <td>not_cyberbullying</td>\n",
       "      <td>classy whore red velvet cupcake</td>\n",
       "      <td>[-2.4943161e+00 -1.5383801e-01 -2.4748578e+00 ...</td>\n",
       "    </tr>\n",
       "    <tr>\n",
       "      <th>3</th>\n",
       "      <td>@Jason_Gio meh. :P  thanks for the heads up, b...</td>\n",
       "      <td>not_cyberbullying</td>\n",
       "      <td>meh p thanks head concerned another angry dude...</td>\n",
       "      <td>[ 0.17788778  1.5807691  -0.9103778   0.447015...</td>\n",
       "    </tr>\n",
       "    <tr>\n",
       "      <th>4</th>\n",
       "      <td>@RudhoeEnglish This is an ISIS account pretend...</td>\n",
       "      <td>not_cyberbullying</td>\n",
       "      <td>isi account pretending kurdish account like is...</td>\n",
       "      <td>[-0.664065   -0.64400995 -0.82653534  0.265784...</td>\n",
       "    </tr>\n",
       "  </tbody>\n",
       "</table>\n",
       "</div>"
      ],
      "text/plain": [
       "                                          tweet_text cyberbullying_type  \\\n",
       "0  In other words #katandandre, your food was cra...  not_cyberbullying   \n",
       "1  Why is #aussietv so white? #MKR #theblock #ImA...  not_cyberbullying   \n",
       "2  @XochitlSuckkks a classy whore? Or more red ve...  not_cyberbullying   \n",
       "3  @Jason_Gio meh. :P  thanks for the heads up, b...  not_cyberbullying   \n",
       "4  @RudhoeEnglish This is an ISIS account pretend...  not_cyberbullying   \n",
       "\n",
       "                                         clean_tweet  \\\n",
       "0             word katandandre food crapilicious mkr   \n",
       "1  aussietv white mkr theblock imacelebrityau tod...   \n",
       "2                    classy whore red velvet cupcake   \n",
       "3  meh p thanks head concerned another angry dude...   \n",
       "4  isi account pretending kurdish account like is...   \n",
       "\n",
       "                                              vector  \n",
       "0  [ 1.4269199  -0.44784003 -0.5476001  -0.121624...  \n",
       "1  [-7.58157313e-01 -7.03256369e-01 -3.71711820e-...  \n",
       "2  [-2.4943161e+00 -1.5383801e-01 -2.4748578e+00 ...  \n",
       "3  [ 0.17788778  1.5807691  -0.9103778   0.447015...  \n",
       "4  [-0.664065   -0.64400995 -0.82653534  0.265784...  "
      ]
     },
     "execution_count": 2,
     "metadata": {},
     "output_type": "execute_result"
    }
   ],
   "source": [
    "import pandas as pd\n",
    "df = pd.read_csv('cyberbullying_tweets_procesados.csv')\n",
    "df.head()"
   ]
  },
  {
   "cell_type": "code",
   "execution_count": 3,
   "metadata": {},
   "outputs": [],
   "source": [
    "import numpy as np\n",
    "# black magic fuckery\n",
    "df['vector'] = df['vector'].apply(lambda x: \n",
    "                           np.fromstring(\n",
    "                               x.replace('\\n','')\n",
    "                                .replace('[','')\n",
    "                                .replace(']','')\n",
    "                                .replace('  ',' '), sep=' '))"
   ]
  },
  {
   "cell_type": "code",
   "execution_count": 4,
   "metadata": {},
   "outputs": [
    {
     "data": {
      "text/plain": [
       "array([ 1.4269199 , -0.44784003, -0.5476001 , -0.12162499,  0.662058  ,\n",
       "       -1.81902   , -0.06224003,  0.10446   , -3.0013201 ,  1.24992   ,\n",
       "        2.79248   , -0.55616   , -0.764486  ,  0.8135201 , -0.86891806,\n",
       "       -0.94561994,  1.9557202 , -1.208528  , -1.13914   , -0.9324401 ,\n",
       "       -1.9680802 ,  1.0471    , -1.2528    ,  0.098498  , -1.6133    ,\n",
       "       -0.29177198, -1.2975401 ,  0.64878   , -1.300394  ,  0.41610003,\n",
       "        1.151806  , -1.1454    , -2.12148   , -0.396696  ,  1.0344    ,\n",
       "       -1.5827801 ,  0.27492   ,  0.684432  ,  0.26048002,  0.38838202,\n",
       "       -0.9766199 , -0.11058   ,  0.96505994,  0.65381604, -0.36976004,\n",
       "        0.660752  ,  1.64864   , -1.6704601 , -0.0664814 , -0.475904  ,\n",
       "       -1.56334   , -0.39306   ,  0.56754   , -2.4851    , -0.904782  ,\n",
       "       -0.119     ,  0.04802003, -0.718444  ,  0.86966   ,  0.10934   ,\n",
       "        2.15982   ,  0.822406  ,  0.82194006, -1.8261799 ,  0.966026  ,\n",
       "        1.6535    , -1.1252201 , -0.90937996,  0.07324   ,  0.19510002,\n",
       "       -0.00669999,  0.76254195, -1.560428  ,  0.338026  ,  0.798054  ,\n",
       "        1.1214001 , -1.3333399 , -0.95632   , -0.43361998,  0.334906  ,\n",
       "       -3.05862   , -0.12109999,  1.0295799 ,  1.3564199 ,  1.4801201 ,\n",
       "       -0.79065204, -0.50658   ,  0.06812005, -0.343206  , -1.14074   ,\n",
       "        1.8713799 ,  0.24176002,  1.244702  , -1.719952  ,  1.72054   ,\n",
       "       -3.76456   ,  0.61516   , -0.70796   ,  0.06438199, -1.26816   ,\n",
       "        0.272952  , -1.549096  ,  0.5596    , -0.33220595, -0.00684001,\n",
       "        2.5161998 , -0.48456   , -0.8198401 , -1.34604   , -2.54016   ,\n",
       "        0.12923999,  0.47473997,  1.3953999 ,  0.02930002,  0.29827398,\n",
       "        1.4875116 , -0.886258  , -2.47714   , -1.0257    , -0.6908058 ,\n",
       "       -1.5697    , -0.19377999, -0.185114  ,  2.4155    , -0.62924   ,\n",
       "       -2.78844   ,  0.76758003, -1.6485399 ,  1.100446  , -0.484802  ,\n",
       "       -1.2792641 , -0.270646  ,  0.47336802, -0.330128  ,  0.53783   ,\n",
       "        0.305392  , -2.84844   , -1.66038   ,  0.63168   , -2.21034   ,\n",
       "       -1.6788601 , -1.23412   , -0.90255994, -0.44039196,  0.41977996,\n",
       "       -1.05074   , -0.9324781 ,  1.304394  , -1.0401102 , -0.13916   ,\n",
       "       -1.0649201 ,  2.52808   ,  1.049684  , -0.118426  , -0.42091998,\n",
       "       -0.05126002,  2.3132    ,  0.11668   , -0.18288   , -1.1804199 ,\n",
       "        0.91261995, -0.11155996, -0.717336  ,  0.945454  ,  2.2277198 ,\n",
       "       -2.161244  ,  0.20718002, -0.15839599,  0.2949    ,  1.11256   ,\n",
       "        0.7433156 , -0.091266  , -1.81724   ,  1.153366  ,  1.30242   ,\n",
       "       -1.48822   ,  1.6080141 ,  0.59269   ,  0.19876601, -0.565606  ,\n",
       "       -0.58123   ,  0.2809    ,  0.392196  , -0.70644796,  0.4314    ,\n",
       "       -0.26398998, -1.6531799 , -1.29162   ,  1.7019001 , -0.20409799,\n",
       "       -1.9950399 ,  1.33478   , -0.14327581, -0.4429658 ,  1.34744   ,\n",
       "       -1.598632  , -0.97038   , -0.6819    ,  0.04942   ,  0.48245993,\n",
       "       -0.396078  ,  0.16494   , -0.56501997,  0.65107197,  1.04774   ,\n",
       "       -1.2408    , -1.2204401 ,  0.28954   ,  0.230806  ,  0.4856886 ,\n",
       "        1.6000801 ,  1.262172  ,  0.04277999,  0.48965997, -0.21769997,\n",
       "       -0.6336832 , -0.254172  , -0.1974    , -1.423756  , -0.42034397,\n",
       "        1.225764  ,  1.15152   ,  0.93803996, -0.09290002, -2.080062  ,\n",
       "       -0.5461296 , -0.484016  , -0.927464  ,  1.8376061 , -0.37491998,\n",
       "       -1.418226  , -1.3429201 ,  0.37142   , -1.73624   , -0.44935998,\n",
       "        0.87530005,  1.4397099 ,  2.0327    , -0.15324001, -2.07144   ,\n",
       "        0.77214   ,  1.1642201 ,  1.7852399 , -0.7826201 , -0.29819998,\n",
       "       -0.05494003, -0.15092   ,  1.7819    ,  0.13572384, -0.49567398,\n",
       "       -2.2698998 , -0.8857401 , -2.7769198 , -0.657534  , -1.0266421 ,\n",
       "       -1.38562   , -0.79572   ,  1.234872  , -0.50898   ,  0.320772  ,\n",
       "        0.648716  ,  1.8614401 , -1.6092201 , -1.42066   ,  0.93779004,\n",
       "        0.51804554, -1.26984   ,  1.10978   , -0.20261994,  1.8692219 ,\n",
       "        1.01016   ,  0.01220798, -0.05749   ,  2.2265    , -0.424026  ,\n",
       "       -0.47078004,  1.6993    ,  1.01074   , -1.48312   ,  0.751258  ,\n",
       "       -0.53804   , -0.14946003, -0.34273997,  0.971612  ,  1.109242  ,\n",
       "        0.20008   , -0.05514002, -1.23284   , -0.30400681,  1.29388   ,\n",
       "        1.9518    ,  0.16305998,  1.58514   , -2.7083    , -0.95962   ,\n",
       "       -2.0715    ,  1.570502  , -0.270428  , -1.6592    ,  0.46752   ])"
      ]
     },
     "execution_count": 4,
     "metadata": {},
     "output_type": "execute_result"
    }
   ],
   "source": [
    "df['vector'][0]"
   ]
  },
  {
   "cell_type": "code",
   "execution_count": 5,
   "metadata": {},
   "outputs": [],
   "source": [
    "import numpy as np"
   ]
  },
  {
   "cell_type": "code",
   "execution_count": 6,
   "metadata": {},
   "outputs": [],
   "source": [
    "from sklearn.model_selection import train_test_split\n",
    "\n",
    "X = df['vector']\n",
    "X = np.concatenate(X, axis=0).reshape(-1,300)\n",
    "y = df['cyberbullying_type']\n",
    "X_train, X_test, y_train, y_test = train_test_split(X, y, train_size = 0.8, random_state = 101)"
   ]
  },
  {
   "cell_type": "code",
   "execution_count": 7,
   "metadata": {},
   "outputs": [],
   "source": [
    "from sklearn.metrics import classification_report, confusion_matrix\n",
    "import seaborn as sns\n",
    "\n",
    "def metrics_of_model(y_pred, y_test):\n",
    "    print(classification_report(y_pred, y_test, target_names = df['cyberbullying_type'].unique()))\n",
    "    sns.heatmap(confusion_matrix(y_pred, y_test), annot=True, cmap='Blues', fmt='.2f')"
   ]
  },
  {
   "cell_type": "markdown",
   "metadata": {},
   "source": [
    "Random Forest"
   ]
  },
  {
   "cell_type": "code",
   "execution_count": 8,
   "metadata": {},
   "outputs": [
    {
     "data": {
      "text/plain": [
       "['SVC.joblib']"
      ]
     },
     "execution_count": 8,
     "metadata": {},
     "output_type": "execute_result"
    }
   ],
   "source": [
    "from sklearn.svm import SVC\n",
    "from sklearn.metrics import accuracy_score\n",
    "\n",
    "# Set the best hyperparameters\n",
    "best_hyperparameters = {'C': 0.5, 'decision_function_shape': 'ovo', 'gamma': 'scale', 'kernel': 'rbf'}\n",
    "\n",
    "# Create a Random Forest classifier with the best hyperparameters\n",
    "final_rf_classifier = SVC(**best_hyperparameters, random_state=42)\n",
    "\n",
    "# Train the final model on the entire dataset (assuming you have the entire dataset)\n",
    "final_rf_classifier.fit(X, y)\n",
    "\n",
    "# Make predictions on new data if needed\n",
    "# new_data_predictions = final_rf_classifier.predict(new_data)\n",
    "\n",
    "# Save the trained model using joblib\n",
    "from joblib import dump\n",
    "dump(final_rf_classifier, 'SVC.joblib')\n"
   ]
  },
  {
   "cell_type": "code",
   "execution_count": 9,
   "metadata": {},
   "outputs": [
    {
     "name": "stdout",
     "output_type": "stream",
     "text": [
      "                     precision    recall  f1-score   support\n",
      "\n",
      "  not_cyberbullying       0.97      0.95      0.96      1649\n",
      "             gender       0.96      0.95      0.95      1595\n",
      "           religion       0.79      0.88      0.83      1439\n",
      "other_cyberbullying       0.57      0.67      0.61      1344\n",
      "                age       0.75      0.62      0.68      1869\n",
      "          ethnicity       0.94      0.92      0.93      1568\n",
      "\n",
      "           accuracy                           0.83      9464\n",
      "          macro avg       0.83      0.83      0.83      9464\n",
      "       weighted avg       0.84      0.83      0.83      9464\n",
      "\n"
     ]
    },
    {
     "data": {
      "image/png": "[encoded data removed]",
      "text/plain": [
       "<Figure size 640x480 with 2 Axes>"
      ]
     },
     "metadata": {},
     "output_type": "display_data"
    }
   ],
   "source": [
    "from sklearn.metrics import classification_report, confusion_matrix\n",
    "import seaborn as sns\n",
    "\n",
    "def metrics_of_model(y_pred, y_test):\n",
    "    print(classification_report(y_pred, y_test, target_names = df['cyberbullying_type'].unique()))\n",
    "    sns.heatmap(confusion_matrix(y_pred, y_test), annot=True, cmap='Blues', fmt='.2f')\n",
    "y_pred = final_rf_classifier.predict(X_test)\n",
    "metrics_of_model(y_pred, y_test)"
   ]
  },
  {
   "cell_type": "code",
   "execution_count": 10,
   "metadata": {},
   "outputs": [
    {
     "name": "stdout",
     "output_type": "stream",
     "text": [
      "Accuracy: 0.8296703296703297\n"
     ]
    }
   ],
   "source": [
    "from sklearn.metrics import accuracy_score\n",
    "\n",
    "# Assuming y_true contains the true labels and y_pred contains the predicted labels\n",
    "y_true = y_test  # Replace ... with your true labels\n",
    "y_pred = final_rf_classifier.predict(X_test)  # Assuming X is your feature matrix\n",
    "\n",
    "# Calculate accuracy\n",
    "accuracy = accuracy_score(y_true, y_pred)\n",
    "\n",
    "print(f\"Accuracy: {accuracy}\")"
   ]
  },
  {
   "cell_type": "code",
   "execution_count": null,
   "metadata": {},
   "outputs": [],
   "source": []
  }
 ],
 "metadata": {
  "kernelspec": {
   "display_name": "Python 3",
   "language": "python",
   "name": "python3"
  },
  "language_info": {
   "codemirror_mode": {
    "name": "ipython",
    "version": 3
   },
   "file_extension": ".py",
   "mimetype": "text/x-python",
   "name": "python",
   "nbconvert_exporter": "python",
   "pygments_lexer": "ipython3",
   "version": "3.11.4"
  }
 },
 "nbformat": 4,
 "nbformat_minor": 2
}
